{
 "cells": [
  {
   "cell_type": "code",
   "execution_count": 1,
   "id": "609ddfce",
   "metadata": {},
   "outputs": [],
   "source": [
    "import numpy as np"
   ]
  },
  {
   "cell_type": "code",
   "execution_count": 2,
   "id": "e99413fe",
   "metadata": {},
   "outputs": [
    {
     "data": {
      "text/plain": [
       "array([1, 2, 3, 4])"
      ]
     },
     "execution_count": 2,
     "metadata": {},
     "output_type": "execute_result"
    }
   ],
   "source": [
    "liste = [1, 2, 3, 4]\n",
    "z = np.array(liste)\n",
    "z"
   ]
  },
  {
   "cell_type": "code",
   "execution_count": 3,
   "id": "ba933c27",
   "metadata": {},
   "outputs": [],
   "source": [
    "a = np.array([1, 2, 3, 4, 5]) # (1 boyutlu dizi : Vektör)"
   ]
  },
  {
   "cell_type": "code",
   "execution_count": 4,
   "id": "b61b0a85",
   "metadata": {},
   "outputs": [
    {
     "data": {
      "text/plain": [
       "numpy.ndarray"
      ]
     },
     "execution_count": 4,
     "metadata": {},
     "output_type": "execute_result"
    }
   ],
   "source": [
    "type(a)"
   ]
  },
  {
   "cell_type": "code",
   "execution_count": 5,
   "id": "80d99c05",
   "metadata": {},
   "outputs": [
    {
     "data": {
      "text/plain": [
       "(5,)"
      ]
     },
     "execution_count": 5,
     "metadata": {},
     "output_type": "execute_result"
    }
   ],
   "source": [
    "a.shape"
   ]
  },
  {
   "cell_type": "code",
   "execution_count": 6,
   "id": "441e1018",
   "metadata": {},
   "outputs": [
    {
     "data": {
      "text/plain": [
       "1"
      ]
     },
     "execution_count": 6,
     "metadata": {},
     "output_type": "execute_result"
    }
   ],
   "source": [
    "a.ndim # dizi boyutu"
   ]
  },
  {
   "cell_type": "code",
   "execution_count": 7,
   "id": "dc87faa4",
   "metadata": {},
   "outputs": [
    {
     "data": {
      "text/plain": [
       "array([1, 2, 3, 4, 5])"
      ]
     },
     "execution_count": 7,
     "metadata": {},
     "output_type": "execute_result"
    }
   ],
   "source": [
    "a"
   ]
  },
  {
   "cell_type": "code",
   "execution_count": 8,
   "id": "ba06fb34",
   "metadata": {},
   "outputs": [
    {
     "data": {
      "text/plain": [
       "array([1, 2, 8, 4, 5])"
      ]
     },
     "execution_count": 8,
     "metadata": {},
     "output_type": "execute_result"
    }
   ],
   "source": [
    "a[2] = 8\n",
    "a"
   ]
  },
  {
   "cell_type": "code",
   "execution_count": 9,
   "id": "d0638af7",
   "metadata": {},
   "outputs": [],
   "source": [
    "b = np.array([[1, 2, 3, 4], [5, 6, 7, 8]]) # 2. dereceden dizi tanımlama"
   ]
  },
  {
   "cell_type": "code",
   "execution_count": 10,
   "id": "42b810dc",
   "metadata": {},
   "outputs": [
    {
     "data": {
      "text/plain": [
       "array([[1, 2, 3, 4],\n",
       "       [5, 6, 7, 8]])"
      ]
     },
     "execution_count": 10,
     "metadata": {},
     "output_type": "execute_result"
    }
   ],
   "source": [
    "b"
   ]
  },
  {
   "cell_type": "code",
   "execution_count": 11,
   "id": "2490bda5",
   "metadata": {},
   "outputs": [
    {
     "data": {
      "text/plain": [
       "2"
      ]
     },
     "execution_count": 11,
     "metadata": {},
     "output_type": "execute_result"
    }
   ],
   "source": [
    "b.ndim"
   ]
  },
  {
   "cell_type": "code",
   "execution_count": 12,
   "id": "f82cf07c",
   "metadata": {},
   "outputs": [
    {
     "data": {
      "text/plain": [
       "(2, 4)"
      ]
     },
     "execution_count": 12,
     "metadata": {},
     "output_type": "execute_result"
    }
   ],
   "source": [
    "b.shape # 2 satır, 4 sütun : 2 boyutlu dizi"
   ]
  },
  {
   "cell_type": "code",
   "execution_count": 13,
   "id": "a490de7b",
   "metadata": {},
   "outputs": [
    {
     "name": "stdout",
     "output_type": "stream",
     "text": [
      "1\n"
     ]
    }
   ],
   "source": [
    "print(b[0, 0]) # 0. satır 0. sütundaki eleman"
   ]
  },
  {
   "cell_type": "code",
   "execution_count": 14,
   "id": "ac36ee7c",
   "metadata": {},
   "outputs": [
    {
     "name": "stdout",
     "output_type": "stream",
     "text": [
      "1 5 6\n"
     ]
    }
   ],
   "source": [
    "print(b[0, 0], b[1, 0], b[1, 1])"
   ]
  },
  {
   "cell_type": "code",
   "execution_count": 15,
   "id": "f7bc5881",
   "metadata": {},
   "outputs": [],
   "source": [
    "c = np.array([[1, 2, 3], [4, 5, 6], [7, 8, 9]])"
   ]
  },
  {
   "cell_type": "code",
   "execution_count": 16,
   "id": "c6b77b46",
   "metadata": {},
   "outputs": [
    {
     "data": {
      "text/plain": [
       "array([[1, 2, 3],\n",
       "       [4, 5, 6],\n",
       "       [7, 8, 9]])"
      ]
     },
     "execution_count": 16,
     "metadata": {},
     "output_type": "execute_result"
    }
   ],
   "source": [
    "c"
   ]
  },
  {
   "cell_type": "code",
   "execution_count": 17,
   "id": "95209cf0",
   "metadata": {},
   "outputs": [
    {
     "data": {
      "text/plain": [
       "2"
      ]
     },
     "execution_count": 17,
     "metadata": {},
     "output_type": "execute_result"
    }
   ],
   "source": [
    "c.ndim # boyutu.."
   ]
  },
  {
   "cell_type": "code",
   "execution_count": 18,
   "id": "8d08f072",
   "metadata": {},
   "outputs": [
    {
     "data": {
      "text/plain": [
       "(3, 3)"
      ]
     },
     "execution_count": 18,
     "metadata": {},
     "output_type": "execute_result"
    }
   ],
   "source": [
    "c.shape"
   ]
  },
  {
   "cell_type": "code",
   "execution_count": 19,
   "id": "c726d2bb",
   "metadata": {},
   "outputs": [],
   "source": [
    "d = np.array([[1, 2, 3], [4, 5, 6], [7, 8, 9]])"
   ]
  },
  {
   "cell_type": "code",
   "execution_count": 20,
   "id": "75f745e1",
   "metadata": {},
   "outputs": [
    {
     "data": {
      "text/plain": [
       "array([[1, 2, 3],\n",
       "       [4, 5, 6],\n",
       "       [7, 8, 9]])"
      ]
     },
     "execution_count": 20,
     "metadata": {},
     "output_type": "execute_result"
    }
   ],
   "source": [
    "d"
   ]
  },
  {
   "cell_type": "code",
   "execution_count": 21,
   "id": "61acb168",
   "metadata": {},
   "outputs": [],
   "source": [
    "s = np.zeros((2, 2))"
   ]
  },
  {
   "cell_type": "code",
   "execution_count": 22,
   "id": "46ea8846",
   "metadata": {},
   "outputs": [
    {
     "data": {
      "text/plain": [
       "array([[0., 0.],\n",
       "       [0., 0.]])"
      ]
     },
     "execution_count": 22,
     "metadata": {},
     "output_type": "execute_result"
    }
   ],
   "source": [
    "s"
   ]
  },
  {
   "cell_type": "code",
   "execution_count": 23,
   "id": "9c46a46f",
   "metadata": {},
   "outputs": [],
   "source": [
    "s2 = np.ones((2,3))"
   ]
  },
  {
   "cell_type": "code",
   "execution_count": 24,
   "id": "bb5fda0e",
   "metadata": {},
   "outputs": [
    {
     "data": {
      "text/plain": [
       "array([[1., 1., 1.],\n",
       "       [1., 1., 1.]])"
      ]
     },
     "execution_count": 24,
     "metadata": {},
     "output_type": "execute_result"
    }
   ],
   "source": [
    "s2"
   ]
  },
  {
   "cell_type": "code",
   "execution_count": 25,
   "id": "d3728f63",
   "metadata": {},
   "outputs": [],
   "source": [
    "s3 = np.full((3,3), 8)"
   ]
  },
  {
   "cell_type": "code",
   "execution_count": 26,
   "id": "1f787be0",
   "metadata": {},
   "outputs": [
    {
     "data": {
      "text/plain": [
       "array([[8, 8, 8],\n",
       "       [8, 8, 8],\n",
       "       [8, 8, 8]])"
      ]
     },
     "execution_count": 26,
     "metadata": {},
     "output_type": "execute_result"
    }
   ],
   "source": [
    "s3"
   ]
  },
  {
   "cell_type": "code",
   "execution_count": 27,
   "id": "4d14d656",
   "metadata": {},
   "outputs": [],
   "source": [
    "s4 = np.empty((4, 5))"
   ]
  },
  {
   "cell_type": "code",
   "execution_count": 28,
   "id": "c250e1da",
   "metadata": {},
   "outputs": [
    {
     "data": {
      "text/plain": [
       "array([[0., 0., 0., 0., 0.],\n",
       "       [0., 0., 0., 0., 0.],\n",
       "       [0., 0., 0., 0., 0.],\n",
       "       [0., 0., 0., 0., 0.]])"
      ]
     },
     "execution_count": 28,
     "metadata": {},
     "output_type": "execute_result"
    }
   ],
   "source": [
    "s4"
   ]
  },
  {
   "cell_type": "code",
   "execution_count": 29,
   "id": "7158fbee",
   "metadata": {},
   "outputs": [
    {
     "name": "stdout",
     "output_type": "stream",
     "text": [
      "[[0. 0. 0. 0. 0.]\n",
      " [0. 0. 0. 0. 0.]\n",
      " [0. 0. 0. 0. 0.]\n",
      " [0. 0. 0. 0. 0.]]\n"
     ]
    }
   ],
   "source": [
    "print(s4)"
   ]
  },
  {
   "cell_type": "code",
   "execution_count": 30,
   "id": "36eec1d0",
   "metadata": {},
   "outputs": [],
   "source": [
    "s5 = np.eye(4) # 4 * 4 lük birim matris"
   ]
  },
  {
   "cell_type": "code",
   "execution_count": 31,
   "id": "ba3a5ad8",
   "metadata": {},
   "outputs": [
    {
     "data": {
      "text/plain": [
       "array([[1., 0., 0., 0.],\n",
       "       [0., 1., 0., 0.],\n",
       "       [0., 0., 1., 0.],\n",
       "       [0., 0., 0., 1.]])"
      ]
     },
     "execution_count": 31,
     "metadata": {},
     "output_type": "execute_result"
    }
   ],
   "source": [
    "s5"
   ]
  },
  {
   "cell_type": "code",
   "execution_count": 32,
   "id": "01af6a54",
   "metadata": {},
   "outputs": [],
   "source": [
    "s7 = np.arange(5, 60, 3)"
   ]
  },
  {
   "cell_type": "code",
   "execution_count": 33,
   "id": "7acdf4a5",
   "metadata": {},
   "outputs": [
    {
     "data": {
      "text/plain": [
       "array([ 5,  8, 11, 14, 17, 20, 23, 26, 29, 32, 35, 38, 41, 44, 47, 50, 53,\n",
       "       56, 59])"
      ]
     },
     "execution_count": 33,
     "metadata": {},
     "output_type": "execute_result"
    }
   ],
   "source": [
    "s7"
   ]
  },
  {
   "cell_type": "code",
   "execution_count": 34,
   "id": "6fb3075a",
   "metadata": {},
   "outputs": [
    {
     "data": {
      "text/plain": [
       "array([0, 2, 4, 6, 8])"
      ]
     },
     "execution_count": 34,
     "metadata": {},
     "output_type": "execute_result"
    }
   ],
   "source": [
    "np.arange(0, 10, 2)"
   ]
  },
  {
   "cell_type": "code",
   "execution_count": 35,
   "id": "440fe470",
   "metadata": {},
   "outputs": [],
   "source": [
    "s8 = np.linspace(2, 10, 6) # 2 ile 10 arasında 6 parçaya bölüyor"
   ]
  },
  {
   "cell_type": "code",
   "execution_count": 36,
   "id": "6ddd5778",
   "metadata": {},
   "outputs": [
    {
     "data": {
      "text/plain": [
       "array([ 2. ,  3.6,  5.2,  6.8,  8.4, 10. ])"
      ]
     },
     "execution_count": 36,
     "metadata": {},
     "output_type": "execute_result"
    }
   ],
   "source": [
    "s8"
   ]
  },
  {
   "cell_type": "code",
   "execution_count": 37,
   "id": "817b32e4",
   "metadata": {},
   "outputs": [],
   "source": [
    "s6 = np.random.random((5, 5))\n",
    "#random, 0 ile 1 arasında float değer döndürür"
   ]
  },
  {
   "cell_type": "code",
   "execution_count": 38,
   "id": "3c287c87",
   "metadata": {},
   "outputs": [
    {
     "data": {
      "text/plain": [
       "array([[0.76782074, 0.77156284, 0.03898734, 0.80837577, 0.33091529],\n",
       "       [0.89146858, 0.43103857, 0.72098245, 0.64830984, 0.90122964],\n",
       "       [0.57304507, 0.46024312, 0.53232955, 0.7841119 , 0.84974972],\n",
       "       [0.9506198 , 0.49276117, 0.3903593 , 0.31107535, 0.52738205],\n",
       "       [0.81369738, 0.49700073, 0.36490391, 0.43783793, 0.48224563]])"
      ]
     },
     "execution_count": 38,
     "metadata": {},
     "output_type": "execute_result"
    }
   ],
   "source": [
    "s6"
   ]
  },
  {
   "cell_type": "code",
   "execution_count": 39,
   "id": "ca46f32d",
   "metadata": {},
   "outputs": [
    {
     "data": {
      "text/plain": [
       "array([69, 11, 90, 24, 31, 25,  3, 59, 30, 65])"
      ]
     },
     "execution_count": 39,
     "metadata": {},
     "output_type": "execute_result"
    }
   ],
   "source": [
    "np.random.randint(0, 100, size = 10)"
   ]
  },
  {
   "cell_type": "code",
   "execution_count": 40,
   "id": "6ed59fcd",
   "metadata": {},
   "outputs": [
    {
     "data": {
      "text/plain": [
       "array([[9, 6, 8, 8],\n",
       "       [8, 5, 7, 6],\n",
       "       [6, 6, 5, 9],\n",
       "       [5, 5, 8, 7]])"
      ]
     },
     "execution_count": 40,
     "metadata": {},
     "output_type": "execute_result"
    }
   ],
   "source": [
    "np.random.randint(5, 10, size = (4, 4))"
   ]
  },
  {
   "cell_type": "code",
   "execution_count": 41,
   "id": "d612beec",
   "metadata": {},
   "outputs": [],
   "source": [
    "d2 = np.random.randint(15, 30, size = (5, 3))"
   ]
  },
  {
   "cell_type": "code",
   "execution_count": 44,
   "id": "d95c4b3d",
   "metadata": {},
   "outputs": [
    {
     "name": "stdout",
     "output_type": "stream",
     "text": [
      "[[28 18 20]\n",
      " [23 18 17]\n",
      " [29 22 27]\n",
      " [28 25 16]\n",
      " [22 22 16]]\n",
      "(5, 3)\n"
     ]
    }
   ],
   "source": [
    "print(d2)\n",
    "print(d2.shape)"
   ]
  },
  {
   "cell_type": "code",
   "execution_count": 45,
   "id": "b2b78fc0",
   "metadata": {},
   "outputs": [
    {
     "data": {
      "text/plain": [
       "array([[28, 18, 20, 23, 18],\n",
       "       [17, 29, 22, 27, 28],\n",
       "       [25, 16, 22, 22, 16]])"
      ]
     },
     "execution_count": 45,
     "metadata": {},
     "output_type": "execute_result"
    }
   ],
   "source": [
    "d2.reshape(3, 5) # yeniden şekillendirmede çarpımları 15 olan bir şekle dönüştürebiliriz.."
   ]
  },
  {
   "cell_type": "code",
   "execution_count": 46,
   "id": "e1466b29",
   "metadata": {},
   "outputs": [
    {
     "name": "stdout",
     "output_type": "stream",
     "text": [
      "[[ 6  7 11]\n",
      " [ 5  6  8]\n",
      " [12 12 12]\n",
      " [12  7  6]\n",
      " [ 4  8  6]]\n"
     ]
    },
    {
     "data": {
      "text/plain": [
       "(5, 3)"
      ]
     },
     "execution_count": 46,
     "metadata": {},
     "output_type": "execute_result"
    }
   ],
   "source": [
    "d3 = np.random.randint(3, 13, size = (5,3))\n",
    "\n",
    "print(d3)\n",
    "d3.shape"
   ]
  },
  {
   "cell_type": "code",
   "execution_count": 47,
   "id": "04c1f31f",
   "metadata": {},
   "outputs": [
    {
     "name": "stdout",
     "output_type": "stream",
     "text": [
      "[ 6  7 11  5  6  8 12 12 12 12  7  6  4  8  6]\n"
     ]
    }
   ],
   "source": [
    "d3 = d3.ravel()\n",
    "\n",
    "#tek bir vektöre dönüştürüyor, uç uca ekleyerek..\n",
    "\n",
    "print(d3)"
   ]
  },
  {
   "cell_type": "code",
   "execution_count": 48,
   "id": "84cd9be5",
   "metadata": {},
   "outputs": [
    {
     "data": {
      "text/plain": [
       "(15,)"
      ]
     },
     "execution_count": 48,
     "metadata": {},
     "output_type": "execute_result"
    }
   ],
   "source": [
    "d3.shape"
   ]
  },
  {
   "cell_type": "code",
   "execution_count": 50,
   "id": "b509ca00",
   "metadata": {},
   "outputs": [
    {
     "data": {
      "text/plain": [
       "dtype('int32')"
      ]
     },
     "execution_count": 50,
     "metadata": {},
     "output_type": "execute_result"
    }
   ],
   "source": [
    "d3.dtype"
   ]
  },
  {
   "cell_type": "code",
   "execution_count": 51,
   "id": "3c6b6c1a",
   "metadata": {},
   "outputs": [
    {
     "data": {
      "text/plain": [
       "array([ 6,  7, 11,  5,  6,  8, 12, 12, 12, 12,  7,  6,  4,  8,  6])"
      ]
     },
     "execution_count": 51,
     "metadata": {},
     "output_type": "execute_result"
    }
   ],
   "source": [
    "d3"
   ]
  },
  {
   "cell_type": "code",
   "execution_count": 52,
   "id": "f7f1c7c3",
   "metadata": {},
   "outputs": [
    {
     "data": {
      "text/plain": [
       "12"
      ]
     },
     "execution_count": 52,
     "metadata": {},
     "output_type": "execute_result"
    }
   ],
   "source": [
    "d3.max()"
   ]
  },
  {
   "cell_type": "code",
   "execution_count": 53,
   "id": "cec33444",
   "metadata": {},
   "outputs": [
    {
     "data": {
      "text/plain": [
       "4"
      ]
     },
     "execution_count": 53,
     "metadata": {},
     "output_type": "execute_result"
    }
   ],
   "source": [
    "d3.min()"
   ]
  },
  {
   "cell_type": "code",
   "execution_count": 54,
   "id": "62d58af8",
   "metadata": {},
   "outputs": [
    {
     "data": {
      "text/plain": [
       "array([ 6,  8,  4,  6,  7, 12, 12, 12, 12,  8,  6,  5, 11,  7,  6])"
      ]
     },
     "execution_count": 54,
     "metadata": {},
     "output_type": "execute_result"
    }
   ],
   "source": [
    "d3[:: -1]"
   ]
  },
  {
   "cell_type": "code",
   "execution_count": 55,
   "id": "abc3e46e",
   "metadata": {},
   "outputs": [],
   "source": [
    "yeni = np.random.randint(1, 100, 10)"
   ]
  },
  {
   "cell_type": "code",
   "execution_count": 56,
   "id": "ba1aac89",
   "metadata": {},
   "outputs": [
    {
     "data": {
      "text/plain": [
       "array([95, 87, 37, 64, 97, 65, 96, 80,  5, 11])"
      ]
     },
     "execution_count": 56,
     "metadata": {},
     "output_type": "execute_result"
    }
   ],
   "source": [
    "yeni"
   ]
  },
  {
   "cell_type": "code",
   "execution_count": 57,
   "id": "90c2d1f5",
   "metadata": {},
   "outputs": [
    {
     "data": {
      "text/plain": [
       "5"
      ]
     },
     "execution_count": 57,
     "metadata": {},
     "output_type": "execute_result"
    }
   ],
   "source": [
    "yeni.min()"
   ]
  },
  {
   "cell_type": "code",
   "execution_count": 58,
   "id": "bd26da63",
   "metadata": {},
   "outputs": [
    {
     "data": {
      "text/plain": [
       "97"
      ]
     },
     "execution_count": 58,
     "metadata": {},
     "output_type": "execute_result"
    }
   ],
   "source": [
    "yeni.max()"
   ]
  },
  {
   "cell_type": "code",
   "execution_count": 59,
   "id": "fbc3f2de",
   "metadata": {},
   "outputs": [
    {
     "data": {
      "text/plain": [
       "8"
      ]
     },
     "execution_count": 59,
     "metadata": {},
     "output_type": "execute_result"
    }
   ],
   "source": [
    "yeni.argmin()\n",
    "# minimum olan elemanın index ini verir"
   ]
  },
  {
   "cell_type": "code",
   "execution_count": 60,
   "id": "e670cf39",
   "metadata": {},
   "outputs": [
    {
     "data": {
      "text/plain": [
       "4"
      ]
     },
     "execution_count": 60,
     "metadata": {},
     "output_type": "execute_result"
    }
   ],
   "source": [
    "yeni.argmax()\n",
    "# maksimum olan elemanın index ini verir"
   ]
  },
  {
   "cell_type": "code",
   "execution_count": 61,
   "id": "a47fbc05",
   "metadata": {},
   "outputs": [
    {
     "data": {
      "text/plain": [
       "63.7"
      ]
     },
     "execution_count": 61,
     "metadata": {},
     "output_type": "execute_result"
    }
   ],
   "source": [
    "yeni.mean()"
   ]
  },
  {
   "cell_type": "code",
   "execution_count": 62,
   "id": "b22b3cf6",
   "metadata": {},
   "outputs": [
    {
     "data": {
      "text/plain": [
       "(10,)"
      ]
     },
     "execution_count": 62,
     "metadata": {},
     "output_type": "execute_result"
    }
   ],
   "source": [
    "yeni.shape"
   ]
  },
  {
   "cell_type": "code",
   "execution_count": 63,
   "id": "eee1522a",
   "metadata": {},
   "outputs": [
    {
     "data": {
      "text/plain": [
       "8"
      ]
     },
     "execution_count": 63,
     "metadata": {},
     "output_type": "execute_result"
    }
   ],
   "source": [
    "np.argmin(yeni)"
   ]
  },
  {
   "cell_type": "code",
   "execution_count": 64,
   "id": "10382808",
   "metadata": {},
   "outputs": [
    {
     "data": {
      "text/plain": [
       "4"
      ]
     },
     "execution_count": 64,
     "metadata": {},
     "output_type": "execute_result"
    }
   ],
   "source": [
    "np.argmax(yeni)"
   ]
  },
  {
   "cell_type": "code",
   "execution_count": 66,
   "id": "7264b9e4",
   "metadata": {},
   "outputs": [
    {
     "data": {
      "text/plain": [
       "637"
      ]
     },
     "execution_count": 66,
     "metadata": {},
     "output_type": "execute_result"
    }
   ],
   "source": [
    "yeni.sum()"
   ]
  },
  {
   "cell_type": "code",
   "execution_count": 67,
   "id": "07b91687",
   "metadata": {},
   "outputs": [
    {
     "data": {
      "text/plain": [
       "63.7"
      ]
     },
     "execution_count": 67,
     "metadata": {},
     "output_type": "execute_result"
    }
   ],
   "source": [
    "yeni.sum()/ 10\n",
    "#aritmetik ortalamasını aldık.."
   ]
  },
  {
   "cell_type": "code",
   "execution_count": 68,
   "id": "004acbd9",
   "metadata": {},
   "outputs": [
    {
     "data": {
      "text/plain": [
       "array([[17, 27, 27, 25, 28],\n",
       "       [25, 20, 19, 27, 17],\n",
       "       [18, 27, 24, 21, 18],\n",
       "       [15, 15, 19, 28, 28]])"
      ]
     },
     "execution_count": 68,
     "metadata": {},
     "output_type": "execute_result"
    }
   ],
   "source": [
    "d4 = np.random.randint(15, 30, size = (4, 5))\n",
    "d4"
   ]
  },
  {
   "cell_type": "code",
   "execution_count": 69,
   "id": "c67abd4f",
   "metadata": {},
   "outputs": [
    {
     "data": {
      "text/plain": [
       "array([ 75,  89,  89, 101,  91])"
      ]
     },
     "execution_count": 69,
     "metadata": {},
     "output_type": "execute_result"
    }
   ],
   "source": [
    "d4.sum(axis = 0)\n",
    "# sütunlar(columns) toplanıyor"
   ]
  },
  {
   "cell_type": "code",
   "execution_count": 72,
   "id": "3542621c",
   "metadata": {},
   "outputs": [
    {
     "data": {
      "text/plain": [
       "array([[ 75,  89,  89, 101,  91]])"
      ]
     },
     "execution_count": 72,
     "metadata": {},
     "output_type": "execute_result"
    }
   ],
   "source": [
    "d4.sum(axis = 0).reshape(1,5)"
   ]
  },
  {
   "cell_type": "code",
   "execution_count": 70,
   "id": "b3941326",
   "metadata": {},
   "outputs": [
    {
     "data": {
      "text/plain": [
       "array([124, 108, 108, 105])"
      ]
     },
     "execution_count": 70,
     "metadata": {},
     "output_type": "execute_result"
    }
   ],
   "source": [
    "d4.sum(axis = 1)\n",
    "# satırlar(raws) toplanıyor"
   ]
  },
  {
   "cell_type": "code",
   "execution_count": 71,
   "id": "6d096875",
   "metadata": {},
   "outputs": [
    {
     "data": {
      "text/plain": [
       "array([[124],\n",
       "       [108],\n",
       "       [108],\n",
       "       [105]])"
      ]
     },
     "execution_count": 71,
     "metadata": {},
     "output_type": "execute_result"
    }
   ],
   "source": [
    "d4.sum(axis = 1).reshape(4, 1)"
   ]
  },
  {
   "cell_type": "code",
   "execution_count": 73,
   "id": "c44ccaad",
   "metadata": {},
   "outputs": [
    {
     "data": {
      "text/plain": [
       "array([18.75, 22.25, 22.25, 25.25, 22.75])"
      ]
     },
     "execution_count": 73,
     "metadata": {},
     "output_type": "execute_result"
    }
   ],
   "source": [
    "d4.mean(axis = 0)"
   ]
  },
  {
   "cell_type": "code",
   "execution_count": null,
   "id": "017e9094",
   "metadata": {},
   "outputs": [],
   "source": []
  }
 ],
 "metadata": {
  "kernelspec": {
   "display_name": "Python 3 (ipykernel)",
   "language": "python",
   "name": "python3"
  },
  "language_info": {
   "codemirror_mode": {
    "name": "ipython",
    "version": 3
   },
   "file_extension": ".py",
   "mimetype": "text/x-python",
   "name": "python",
   "nbconvert_exporter": "python",
   "pygments_lexer": "ipython3",
   "version": "3.9.7"
  }
 },
 "nbformat": 4,
 "nbformat_minor": 5
}
